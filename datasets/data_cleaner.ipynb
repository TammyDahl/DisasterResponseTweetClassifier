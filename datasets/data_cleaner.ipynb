{
 "cells": [
  {
   "cell_type": "code",
   "execution_count": 1,
   "id": "32e88b9c",
   "metadata": {},
   "outputs": [
    {
     "name": "stderr",
     "output_type": "stream",
     "text": [
      "[nltk_data] Downloading package punkt to /home/jovyan/nltk_data...\n",
      "[nltk_data]   Package punkt is already up-to-date!\n",
      "[nltk_data] Downloading package wordnet to /home/jovyan/nltk_data...\n",
      "[nltk_data]   Package wordnet is already up-to-date!\n",
      "[nltk_data] Downloading package stopwords to /home/jovyan/nltk_data...\n",
      "[nltk_data]   Package stopwords is already up-to-date!\n"
     ]
    },
    {
     "data": {
      "text/plain": [
       "True"
      ]
     },
     "execution_count": 1,
     "metadata": {},
     "output_type": "execute_result"
    }
   ],
   "source": [
    "import pandas as pd\n",
    "import re\n",
    "import contractions\n",
    "import nltk\n",
    "from nltk.stem import WordNetLemmatizer\n",
    "from nltk.corpus import stopwords\n",
    "from nltk.tokenize import word_tokenize\n",
    "from collections import Counter\n",
    "\n",
    "# NLTK setup\n",
    "nltk.download('punkt')\n",
    "nltk.download('wordnet')\n",
    "nltk.download('stopwords')"
   ]
  },
  {
   "cell_type": "code",
   "execution_count": 2,
   "id": "ab1419e7",
   "metadata": {},
   "outputs": [],
   "source": [
    "# Load data\n",
    "train_df = pd.read_csv(r\"../data/train.csv\")\n",
    "test_df = pd.read_csv(r\"../data/test.csv\")"
   ]
  },
  {
   "cell_type": "code",
   "execution_count": 3,
   "id": "45a339b6",
   "metadata": {},
   "outputs": [],
   "source": [
    "# Step 1: Quick cleaning using pandas\n",
    "def fast_pandas_clean(text):\n",
    "    text = contractions.fix(text)                          # Expand contractions\n",
    "    text = text.lower()                                    # Lowercase\n",
    "    text = re.sub(r\"http\\S+|www\\S+\", \"\", text)             # Remove URLs\n",
    "    text = re.sub(r\"@\\w+\", \"\", text)                       # Remove @mentions\n",
    "    text = text.replace(\"#\", \"\")                           # Remove '#' but keep the word\n",
    "    text = re.sub(r\"[^\\w\\s]\", \"\", text)                    # Remove other punctuation\n",
    "    text = re.sub(r\"\\s+\", \" \", text).strip()               # Remove extra spaces\n",
    "    return text\n",
    "\n",
    "for df in [train_df, test_df]:\n",
    "    df['text_clean'] = df['text'].astype(str).apply(fast_pandas_clean)"
   ]
  },
  {
   "cell_type": "code",
   "execution_count": 4,
   "id": "93c92655",
   "metadata": {},
   "outputs": [
    {
     "name": "stdout",
     "output_type": "stream",
     "text": [
      "Important stopwords discovered: ['after', 'than', 'under', 's', 'during', 'over', 'those', 'were', 'm', 't']\n"
     ]
    }
   ],
   "source": [
    "# Step 2: Discover important stopwords from the dataset\n",
    "all_stopwords = set(stopwords.words('english'))\n",
    "\n",
    "# Disaster vs Non-disaster split (only train set has target)\n",
    "disaster_texts = train_df[train_df['target'] == 1]['text_clean'].dropna().tolist()\n",
    "non_disaster_texts = train_df[train_df['target'] == 0]['text_clean'].dropna().tolist()\n",
    "\n",
    "def count_stopwords(texts, stopword_list):\n",
    "    counter = Counter()\n",
    "    for text in texts:\n",
    "        tokens = word_tokenize(text)\n",
    "        for token in tokens:\n",
    "            if token in stopword_list:\n",
    "                counter[token] += 1\n",
    "    return counter\n",
    "\n",
    "disaster_counts = count_stopwords(disaster_texts, all_stopwords)\n",
    "non_disaster_counts = count_stopwords(non_disaster_texts, all_stopwords)\n",
    "\n",
    "# Important stopwords discovery\n",
    "important_stopwords = []\n",
    "for word in all_stopwords:\n",
    "    disaster_freq = disaster_counts[word]\n",
    "    non_disaster_freq = non_disaster_counts[word]\n",
    "    total = disaster_freq + non_disaster_freq\n",
    "    if total > 5:  # minimum appearances\n",
    "        if disaster_freq / (total + 1e-6) > 0.6:  # heavily disaster-weighted\n",
    "            important_stopwords.append(word)\n",
    "\n",
    "print(f\"Important stopwords discovered: {important_stopwords}\")"
   ]
  },
  {
   "cell_type": "code",
   "execution_count": 5,
   "id": "0c9cf814",
   "metadata": {},
   "outputs": [],
   "source": [
    "# Step 3: Update stopwords set\n",
    "updated_stopwords = all_stopwords - set(important_stopwords)\n"
   ]
  },
  {
   "cell_type": "code",
   "execution_count": 6,
   "id": "548c3566",
   "metadata": {},
   "outputs": [],
   "source": [
    "# Step 4: Deeper cleaning\n",
    "lemmatizer = WordNetLemmatizer()\n",
    "\n",
    "def preprocess_text(text):\n",
    "    try:\n",
    "        text = re.sub(r'\\d+', '', text)\n",
    "        text = re.sub(r'[^a-zA-Z\\s]', '', text)\n",
    "        tokens = word_tokenize(text)\n",
    "        tokens = [word for word in tokens if word.lower() not in updated_stopwords]\n",
    "        tokens = [lemmatizer.lemmatize(word) for word in tokens]\n",
    "        return ' '.join(tokens)\n",
    "    except LookupError as e:\n",
    "        print(\"NLTK resource missing:\", e)\n",
    "        return text\n",
    "\n",
    "# Apply deep cleaning to train and test\n",
    "for df in [train_df, test_df]:\n",
    "    df['text_final'] = df['text_clean'].apply(preprocess_text)"
   ]
  },
  {
   "cell_type": "code",
   "execution_count": 7,
   "id": "e5a7d76a",
   "metadata": {},
   "outputs": [
    {
     "name": "stdout",
     "output_type": "stream",
     "text": [
      "\n",
      "Cleaned train and test sets saved!\n"
     ]
    }
   ],
   "source": [
    "# Step 5: Save cleaned datasets\n",
    "train_df.to_csv(\"cleaned_train.csv\", index=False)\n",
    "test_df.to_csv(\"cleaned_test.csv\", index=False)\n",
    "\n",
    "print(\"\\nCleaned train and test sets saved!\")"
   ]
  }
 ],
 "metadata": {
  "kernelspec": {
   "display_name": "base",
   "language": "python",
   "name": "python3"
  },
  "language_info": {
   "codemirror_mode": {
    "name": "ipython",
    "version": 3
   },
   "file_extension": ".py",
   "mimetype": "text/x-python",
   "name": "python",
   "nbconvert_exporter": "python",
   "pygments_lexer": "ipython3",
   "version": "3.11.9"
  }
 },
 "nbformat": 4,
 "nbformat_minor": 5
}
