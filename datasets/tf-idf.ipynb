{
 "cells": [
  {
   "cell_type": "code",
   "execution_count": 1,
   "id": "73977058",
   "metadata": {},
   "outputs": [],
   "source": [
    "import pandas as pd\n",
    "import numpy as np\n",
    "import os\n",
    "from sklearn.feature_extraction.text import TfidfVectorizer\n",
    "import joblib\n",
    "from scipy import sparse"
   ]
  },
  {
   "cell_type": "code",
   "execution_count": 2,
   "id": "0a229f7c",
   "metadata": {},
   "outputs": [],
   "source": [
    "# Load train and test data\n",
    "train_df = pd.read_csv(r\"./cleaned_train.csv\")\n",
    "test_df = pd.read_csv(r\"./cleaned_test.csv\")\n"
   ]
  },
  {
   "cell_type": "code",
   "execution_count": 3,
   "id": "c8beeab5",
   "metadata": {},
   "outputs": [],
   "source": [
    "# Fill missing text values\n",
    "train_corpus = train_df['text_clean'].fillna(\"\")\n",
    "test_corpus = test_df['text_clean'].fillna(\"\")\n",
    "\n",
    "# Train TF-IDF on training corpus\n",
    "vectorizer = TfidfVectorizer()\n",
    "train_features = vectorizer.fit_transform(train_corpus)\n",
    "test_features = vectorizer.transform(test_corpus)"
   ]
  },
  {
   "cell_type": "code",
   "execution_count": 4,
   "id": "cc84d529",
   "metadata": {},
   "outputs": [
    {
     "name": "stdout",
     "output_type": "stream",
     "text": [
      "Number of training documents: 7613\n",
      "Vocabulary size: 15776\n",
      "Sample vocab: ['our', 'deeds', 'are', 'the', 'reason', 'of', 'this', 'earthquake', 'may', 'allah']\n"
     ]
    }
   ],
   "source": [
    "# Preview\n",
    "print(f\"Number of training documents: {train_features.shape[0]}\")\n",
    "print(f\"Vocabulary size: {len(vectorizer.vocabulary_)}\")\n",
    "print(\"Sample vocab:\", list(vectorizer.vocabulary_.keys())[:10])"
   ]
  },
  {
   "cell_type": "code",
   "execution_count": 5,
   "id": "2097779c",
   "metadata": {},
   "outputs": [
    {
     "name": "stdout",
     "output_type": "stream",
     "text": [
      "Vectorizer saved to: /home/jovyan/Documents/cs549/tweet-classifier/datasets/tfidf_vectorizer.pkl\n"
     ]
    }
   ],
   "source": [
    "# Save vectorizer\n",
    "vectorizer_path = \"tfidf_vectorizer.pkl\"\n",
    "joblib.dump(vectorizer, vectorizer_path)\n",
    "print(f\"Vectorizer saved to: {os.path.abspath(vectorizer_path)}\")"
   ]
  },
  {
   "cell_type": "code",
   "execution_count": 6,
   "id": "ce7ac21f",
   "metadata": {},
   "outputs": [],
   "source": [
    "sparse.save_npz(\"tfidf_train_features.npz\", train_features)\n",
    "sparse.save_npz(\"tfidf_test_features.npz\", test_features)\n",
    "train_df[['target']].to_csv(\"tfidf_train_labels.csv\", index=False)\n",
    "test_df.to_csv(\"tfidf_test_labels.csv\", index=False)  # test set has no target so save entire dataframe"
   ]
  }
 ],
 "metadata": {
  "kernelspec": {
   "display_name": "base",
   "language": "python",
   "name": "python3"
  },
  "language_info": {
   "codemirror_mode": {
    "name": "ipython",
    "version": 3
   },
   "file_extension": ".py",
   "mimetype": "text/x-python",
   "name": "python",
   "nbconvert_exporter": "python",
   "pygments_lexer": "ipython3",
   "version": "3.11.9"
  }
 },
 "nbformat": 4,
 "nbformat_minor": 5
}
