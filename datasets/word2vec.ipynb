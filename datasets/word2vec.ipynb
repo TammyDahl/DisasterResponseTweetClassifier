{
 "cells": [
  {
   "cell_type": "code",
   "execution_count": 1,
   "id": "cf5bc334",
   "metadata": {},
   "outputs": [
    {
     "name": "stderr",
     "output_type": "stream",
     "text": [
      "[nltk_data] Downloading package punkt to /home/jovyan/nltk_data...\n",
      "[nltk_data]   Package punkt is already up-to-date!\n"
     ]
    },
    {
     "name": "stdout",
     "output_type": "stream",
     "text": [
      "Vocabulary size: 6524\n",
      "Sample vocab: ['the', 'a', 'to', 'in', 'of', 'i', 'and', 'is', 'you', 'for']\n",
      "Model saved to: /home/jovyan/Documents/cs549/tweet-classifier/datasets/word2vec_model.model\n"
     ]
    }
   ],
   "source": [
    "import pandas as pd\n",
    "import numpy as np\n",
    "import nltk\n",
    "nltk.download('punkt')\n",
    "from nltk.tokenize import word_tokenize\n",
    "from gensim.models import Word2Vec\n",
    "import os\n",
    "\n",
    "# Load train and test data\n",
    "train_df = pd.read_csv(r\"./cleaned_train.csv\")\n",
    "test_df = pd.read_csv(r\"./cleaned_test.csv\")\n",
    "\n",
    "# Use nltk word_tokenize\n",
    "tokenized_train = train_df['text_clean'].dropna().apply(word_tokenize).tolist()\n",
    "\n",
    "# Train Word2Vec on training set\n",
    "w2v_model = Word2Vec(\n",
    "    sentences=tokenized_train,\n",
    "    vector_size=100,\n",
    "    window=5,\n",
    "    min_count=2,\n",
    "    workers=4,\n",
    "    sg=1,\n",
    "    seed=42\n",
    ")\n",
    "\n",
    "# Preview\n",
    "print(f\"Vocabulary size: {len(w2v_model.wv)}\")\n",
    "print(\"Sample vocab:\", w2v_model.wv.index_to_key[:10])\n",
    "\n",
    "# Save Word2Vec model\n",
    "model_path = \"word2vec_model.model\"\n",
    "w2v_model.save(model_path)\n",
    "print(f\"Model saved to: {os.path.abspath(model_path)}\")\n",
    "\n",
    "# Generate simple averaged Word2Vec embeddings for train and test\n",
    "train_corpus = train_df['text_clean'].fillna(\"\")\n",
    "test_corpus = test_df['text_clean'].fillna(\"\")\n",
    "\n",
    "# Define embedding function\n",
    "def get_average_w2v(text, model):\n",
    "    tokens = word_tokenize(text)\n",
    "    word_vecs = [model.wv[word] for word in tokens if word in model.wv]\n",
    "    if word_vecs:\n",
    "        return np.mean(word_vecs, axis=0)\n",
    "    else:\n",
    "        return np.zeros(model.vector_size)\n",
    "\n",
    "# Apply to train and test sets\n",
    "train_features = np.array([get_average_w2v(text, w2v_model) for text in train_corpus])\n",
    "test_features = np.array([get_average_w2v(text, w2v_model) for text in test_corpus])\n",
    "\n",
    "# Save features and labels\n",
    "np.save(\"w2v_train_features.npy\", train_features)\n",
    "np.save(\"w2v_test_features.npy\", test_features)\n",
    "train_df[['target']].to_csv(\"w2v_train_labels.csv\", index=False)\n",
    "test_df.to_csv(\"w2v_test_labels.csv\", index=False)  # test set has no target so save entire dataframe\n"
   ]
  }
 ],
 "metadata": {
  "kernelspec": {
   "display_name": "base",
   "language": "python",
   "name": "python3"
  },
  "language_info": {
   "codemirror_mode": {
    "name": "ipython",
    "version": 3
   },
   "file_extension": ".py",
   "mimetype": "text/x-python",
   "name": "python",
   "nbconvert_exporter": "python",
   "pygments_lexer": "ipython3",
   "version": "3.11.9"
  }
 },
 "nbformat": 4,
 "nbformat_minor": 5
}
