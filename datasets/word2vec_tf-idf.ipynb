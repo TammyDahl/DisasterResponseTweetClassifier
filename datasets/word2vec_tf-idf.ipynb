{
 "cells": [
  {
   "cell_type": "code",
   "execution_count": 1,
   "id": "5e6ac780",
   "metadata": {},
   "outputs": [
    {
     "name": "stderr",
     "output_type": "stream",
     "text": [
      "[nltk_data] Downloading package punkt to /home/jovyan/nltk_data...\n",
      "[nltk_data]   Package punkt is already up-to-date!\n"
     ]
    },
    {
     "name": "stdout",
     "output_type": "stream",
     "text": [
      "TF-IDF matrices saved.\n",
      "Word2Vec weighted embeddings, TF-IDF matrices, and labels saved!\n"
     ]
    }
   ],
   "source": [
    "import pandas as pd\n",
    "import numpy as np\n",
    "import nltk\n",
    "from nltk.tokenize import word_tokenize\n",
    "from gensim.models import Word2Vec\n",
    "from sklearn.feature_extraction.text import TfidfVectorizer\n",
    "from scipy import sparse\n",
    "import os\n",
    "\n",
    "# NLTK setup\n",
    "nltk.download('punkt')\n",
    "\n",
    "# Load data\n",
    "train_df = pd.read_csv(r\"./cleaned_train.csv\")\n",
    "test_df = pd.read_csv(r\"./cleaned_test.csv\")\n",
    "\n",
    "# Step 1: Train Word2Vec\n",
    "tokenized_train = train_df['text_clean'].dropna().apply(word_tokenize).tolist()\n",
    "\n",
    "w2v_model = Word2Vec(\n",
    "    sentences=tokenized_train,\n",
    "    vector_size=100,\n",
    "    window=5,\n",
    "    min_count=2,\n",
    "    workers=4,\n",
    "    sg=1,\n",
    "    seed=42\n",
    ")\n",
    "\n",
    "# Step 2: Train TF-IDF\n",
    "train_corpus = train_df['text_clean'].fillna(\"\")\n",
    "tfidf = TfidfVectorizer()\n",
    "tfidf_train_matrix = tfidf.fit_transform(train_corpus)\n",
    "\n",
    "test_corpus = test_df['text_clean'].fillna(\"\")\n",
    "tfidf_test_matrix = tfidf.transform(test_corpus)\n",
    "\n",
    "# Save TF-IDF matrices\n",
    "sparse.save_npz(r\"./tfidf_train_matrix.npz\", tfidf_train_matrix)\n",
    "sparse.save_npz(r\"./tfidf_test_matrix.npz\", tfidf_test_matrix)\n",
    "\n",
    "print(\"TF-IDF matrices saved.\")\n",
    "\n",
    "# Step 3: Compute Weighted Word2Vec embeddings\n",
    "idf_weights = dict(zip(tfidf.get_feature_names_out(), tfidf.idf_))\n",
    "\n",
    "def get_weighted_w2v(text, model, idf_dict):\n",
    "    tokens = word_tokenize(text)\n",
    "    word_vecs = []\n",
    "    weight_sum = 0\n",
    "    for word in tokens:\n",
    "        if word in model.wv and word in idf_dict:\n",
    "            vec = model.wv[word] * idf_dict[word]\n",
    "            word_vecs.append(vec)\n",
    "            weight_sum += idf_dict[word]\n",
    "    if word_vecs:\n",
    "        return np.sum(word_vecs, axis=0) / weight_sum\n",
    "    else:\n",
    "        return np.zeros(model.vector_size)\n",
    "\n",
    "# Compute features\n",
    "train_features_w2v = np.array([get_weighted_w2v(text, w2v_model, idf_weights) for text in train_corpus])\n",
    "test_features_w2v = np.array([get_weighted_w2v(text, w2v_model, idf_weights) for text in test_corpus])\n",
    "\n",
    "# Save Word2Vec features\n",
    "np.save(r\"./w2v_tfidf_train_features.npy\", train_features_w2v)\n",
    "np.save(r\"./w2v_tfidf_test_features.npy\", test_features_w2v)\n",
    "\n",
    "# Save labels\n",
    "train_df[['target']].to_csv(r\"./w2v_tfidf_train_labels.csv\", index=False)\n",
    "test_df.to_csv(r\"./w2v_tfidf_test_labels.csv\", index=False)\n",
    "\n",
    "print(\"Word2Vec weighted embeddings, TF-IDF matrices, and labels saved!\")"
   ]
  }
 ],
 "metadata": {
  "kernelspec": {
   "display_name": "base",
   "language": "python",
   "name": "python3"
  },
  "language_info": {
   "codemirror_mode": {
    "name": "ipython",
    "version": 3
   },
   "file_extension": ".py",
   "mimetype": "text/x-python",
   "name": "python",
   "nbconvert_exporter": "python",
   "pygments_lexer": "ipython3",
   "version": "3.11.9"
  }
 },
 "nbformat": 4,
 "nbformat_minor": 5
}
