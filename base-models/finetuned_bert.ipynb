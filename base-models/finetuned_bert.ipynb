{
 "cells": [
  {
   "cell_type": "code",
   "execution_count": 1,
   "id": "a769bb20",
   "metadata": {},
   "outputs": [
    {
     "name": "stdout",
     "output_type": "stream",
     "text": [
      "Using device: cuda\n"
     ]
    },
    {
     "name": "stderr",
     "output_type": "stream",
     "text": [
      "[nltk_data] Downloading package punkt to /home/jovyan/nltk_data...\n",
      "[nltk_data]   Package punkt is already up-to-date!\n"
     ]
    }
   ],
   "source": [
    "import pandas as pd\n",
    "import numpy as np\n",
    "import torch\n",
    "import nltk\n",
    "from sklearn.metrics import f1_score, accuracy_score, classification_report, confusion_matrix, precision_score, recall_score\n",
    "from sklearn.model_selection import train_test_split\n",
    "from transformers import DistilBertTokenizerFast, DistilBertForSequenceClassification, Trainer, TrainingArguments\n",
    "from datasets import Dataset\n",
    "\n",
    "nltk.download('punkt')\n",
    "\n",
    "device = torch.device(\"cuda\" if torch.cuda.is_available() else \"cpu\")\n",
    "print(f\"Using device: {device}\")"
   ]
  },
  {
   "cell_type": "code",
   "execution_count": 2,
   "id": "910731ed",
   "metadata": {},
   "outputs": [],
   "source": [
    "train_df = pd.read_csv(r\"../datasets/cleaned_train.csv\")\n",
    "train_texts = train_df['text'].fillna(\"\").tolist()\n",
    "train_labels = train_df['target'].values\n",
    "\n",
    "# 80/20 split\n",
    "X_train_texts, X_val_texts, y_train_labels, y_val_labels = train_test_split(\n",
    "    train_texts, train_labels, test_size=0.2, stratify=train_labels, random_state=42\n",
    ")"
   ]
  },
  {
   "cell_type": "code",
   "execution_count": 3,
   "id": "f52fc3ab",
   "metadata": {},
   "outputs": [
    {
     "name": "stderr",
     "output_type": "stream",
     "text": [
      "Some weights of DistilBertForSequenceClassification were not initialized from the model checkpoint at distilbert-base-uncased and are newly initialized: ['classifier.bias', 'classifier.weight', 'pre_classifier.bias', 'pre_classifier.weight']\n",
      "You should probably TRAIN this model on a down-stream task to be able to use it for predictions and inference.\n"
     ]
    },
    {
     "data": {
      "text/html": [
       "\n",
       "    <div>\n",
       "      \n",
       "      <progress value='1143' max='1143' style='width:300px; height:20px; vertical-align: middle;'></progress>\n",
       "      [1143/1143 01:22, Epoch 3/3]\n",
       "    </div>\n",
       "    <table border=\"1\" class=\"dataframe\">\n",
       "  <thead>\n",
       " <tr style=\"text-align: left;\">\n",
       "      <th>Epoch</th>\n",
       "      <th>Training Loss</th>\n",
       "      <th>Validation Loss</th>\n",
       "      <th>F1</th>\n",
       "    </tr>\n",
       "  </thead>\n",
       "  <tbody>\n",
       "    <tr>\n",
       "      <td>1</td>\n",
       "      <td>0.393900</td>\n",
       "      <td>0.373881</td>\n",
       "      <td>0.806988</td>\n",
       "    </tr>\n",
       "    <tr>\n",
       "      <td>2</td>\n",
       "      <td>0.283000</td>\n",
       "      <td>0.398789</td>\n",
       "      <td>0.809854</td>\n",
       "    </tr>\n",
       "    <tr>\n",
       "      <td>3</td>\n",
       "      <td>0.191300</td>\n",
       "      <td>0.428584</td>\n",
       "      <td>0.807154</td>\n",
       "    </tr>\n",
       "  </tbody>\n",
       "</table><p>"
      ],
      "text/plain": [
       "<IPython.core.display.HTML object>"
      ]
     },
     "metadata": {},
     "output_type": "display_data"
    },
    {
     "data": {
      "text/plain": [
       "TrainOutput(global_step=1143, training_loss=0.343281929991481, metrics={'train_runtime': 82.5408, 'train_samples_per_second': 221.345, 'train_steps_per_second': 13.848, 'total_flos': 397060678455840.0, 'train_loss': 0.343281929991481, 'epoch': 3.0})"
      ]
     },
     "execution_count": 3,
     "metadata": {},
     "output_type": "execute_result"
    }
   ],
   "source": [
    "# Load tokenizer and model\n",
    "tokenizer = DistilBertTokenizerFast.from_pretrained(\"distilbert-base-uncased\")\n",
    "model = DistilBertForSequenceClassification.from_pretrained(\"distilbert-base-uncased\", num_labels=2)\n",
    "model.to(device)\n",
    "\n",
    "# Tokenize train\n",
    "train_encodings = tokenizer(X_train_texts, truncation=True, padding=True, max_length=128)\n",
    "train_dataset = Dataset.from_dict({\n",
    "    'input_ids': train_encodings['input_ids'],\n",
    "    'attention_mask': train_encodings['attention_mask'],\n",
    "    'labels': y_train_labels\n",
    "})\n",
    "\n",
    "# Tokenize validation\n",
    "val_encodings = tokenizer(X_val_texts, truncation=True, padding=True, max_length=128)\n",
    "val_dataset = Dataset.from_dict({\n",
    "    'input_ids': val_encodings['input_ids'],\n",
    "    'attention_mask': val_encodings['attention_mask'],\n",
    "    'labels': y_val_labels\n",
    "})\n",
    "\n",
    "# Define metrics\n",
    "def compute_metrics(eval_pred):\n",
    "    logits, labels = eval_pred\n",
    "    preds = np.argmax(logits, axis=1)\n",
    "    return {\"f1\": f1_score(labels, preds)}\n",
    "\n",
    "# Training arguments\n",
    "training_args = TrainingArguments(\n",
    "    output_dir=\"./results\",\n",
    "    eval_strategy=\"epoch\",\n",
    "    save_strategy=\"epoch\",  # Save after each epoch\n",
    "    save_total_limit=1,      # Only keep the best model\n",
    "    learning_rate=2e-5,\n",
    "    per_device_train_batch_size=16,\n",
    "    per_device_eval_batch_size=32,\n",
    "    num_train_epochs=3,\n",
    "    weight_decay=0.01,\n",
    "    logging_dir=\"./logs\",\n",
    "    logging_steps=10,\n",
    "    load_best_model_at_end=True,\n",
    "    metric_for_best_model=\"f1\",\n",
    "    greater_is_better=True,\n",
    "    fp16=True  # Enable mixed precision if GPU supports\n",
    ")\n",
    "\n",
    "trainer = Trainer(\n",
    "    model=model,\n",
    "    args=training_args,\n",
    "    train_dataset=train_dataset,\n",
    "    eval_dataset=val_dataset,\n",
    "    compute_metrics=compute_metrics\n",
    ")\n",
    "\n",
    "# Train\n",
    "trainer.train()"
   ]
  },
  {
   "cell_type": "code",
   "execution_count": 4,
   "id": "6582042b",
   "metadata": {},
   "outputs": [
    {
     "name": "stdout",
     "output_type": "stream",
     "text": [
      "Accuracy: 0.8378200919238346\n",
      "F1 Score: 0.8098537336412626\n",
      "\n",
      "Classification Report:\n",
      "               precision    recall  f1-score   support\n",
      "\n",
      "           0       0.85      0.86      0.86       869\n",
      "           1       0.82      0.80      0.81       654\n",
      "\n",
      "    accuracy                           0.84      1523\n",
      "   macro avg       0.83      0.83      0.83      1523\n",
      "weighted avg       0.84      0.84      0.84      1523\n",
      "\n",
      "\n",
      "Confusion Matrix:\n",
      " [[750 119]\n",
      " [128 526]]\n"
     ]
    }
   ],
   "source": [
    "# Evaluate on validation set manually\n",
    "model.eval()\n",
    "inputs = tokenizer(X_val_texts, padding=True, truncation=True, return_tensors=\"pt\", max_length=128)\n",
    "inputs = {k: v.to(device) for k, v in inputs.items()}\n",
    "\n",
    "with torch.no_grad():\n",
    "    outputs = model(**inputs)\n",
    "    logits = outputs.logits\n",
    "    preds = torch.argmax(logits, dim=1).cpu().numpy()\n",
    "\n",
    "print(\"Accuracy:\", accuracy_score(y_val_labels, preds))\n",
    "print(\"F1 Score:\", f1_score(y_val_labels, preds))\n",
    "print(\"\\nClassification Report:\\n\", classification_report(y_val_labels, preds))\n",
    "print(\"\\nConfusion Matrix:\\n\", confusion_matrix(y_val_labels, preds))"
   ]
  },
  {
   "cell_type": "code",
   "execution_count": 5,
   "id": "92ba31d9",
   "metadata": {},
   "outputs": [
    {
     "name": "stdout",
     "output_type": "stream",
     "text": [
      "Model scores saved to evaluation/scores.csv\n"
     ]
    }
   ],
   "source": [
    "# Save evaluations for comparison\n",
    "model_name = \"Finetuned BERT\"\n",
    "\n",
    "metrics = {\n",
    "    \"model\": model_name,\n",
    "    \"accuracy\": accuracy_score(y_val_labels, preds),\n",
    "    \"precision\": precision_score(y_val_labels, preds, average=\"binary\"),\n",
    "    \"recall\": recall_score(y_val_labels, preds, average=\"binary\"),\n",
    "    \"f1score\": f1_score(y_val_labels, preds, average=\"binary\")\n",
    "}\n",
    "\n",
    "scores = pd.read_csv(\"../evaluation/scores.csv\")\n",
    "\n",
    "match = scores[\"model\"] == metrics[\"model\"]\n",
    "if match.any():\n",
    "    # Update existing row\n",
    "    scores.loc[match, [\"accuracy\", \"precision\", \"recall\", \"f1score\"]] = metrics[\"accuracy\"], metrics[\"precision\"], metrics[\"recall\"], metrics[\"f1score\"]\n",
    "else:\n",
    "    # Insert new row\n",
    "    scores = pd.concat([scores, pd.DataFrame([metrics])], ignore_index=True)\n",
    "\n",
    "scores.to_csv(\"../evaluation/scores.csv\", index=False)\n",
    "\n",
    "print(\"Model scores saved to evaluation/scores.csv\")"
   ]
  },
  {
   "cell_type": "code",
   "execution_count": 6,
   "id": "6ba54ca6",
   "metadata": {},
   "outputs": [
    {
     "name": "stdout",
     "output_type": "stream",
     "text": [
      "Finetuned model saved at ./finetuned_bert\n"
     ]
    }
   ],
   "source": [
    "# Save fine-tuned model\n",
    "save_path = r\"./finetuned_bert\"\n",
    "model.save_pretrained(save_path)\n",
    "tokenizer.save_pretrained(save_path)\n",
    "\n",
    "print(f\"Finetuned model saved at {save_path}\")"
   ]
  },
  {
   "cell_type": "code",
   "execution_count": null,
   "id": "5657b522",
   "metadata": {},
   "outputs": [],
   "source": []
  }
 ],
 "metadata": {
  "kernelspec": {
   "display_name": "base",
   "language": "python",
   "name": "python3"
  },
  "language_info": {
   "codemirror_mode": {
    "name": "ipython",
    "version": 3
   },
   "file_extension": ".py",
   "mimetype": "text/x-python",
   "name": "python",
   "nbconvert_exporter": "python",
   "pygments_lexer": "ipython3",
   "version": "3.11.9"
  }
 },
 "nbformat": 4,
 "nbformat_minor": 5
}
